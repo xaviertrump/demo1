{
    "cells": [
        {
            "cell_type": "code",
            "execution_count": null,
            "metadata": {
                "collapsed": true
            },
            "outputs": [],
            "source": "## This Book consist of Python Basics"
        },
        {
            "cell_type": "code",
            "execution_count": 1,
            "metadata": {},
            "outputs": [
                {
                    "name": "stdout",
                    "output_type": "stream",
                    "text": "hello python\n"
                }
            ],
            "source": "print(\"hello python\")"
        },
        {
            "cell_type": "code",
            "execution_count": 2,
            "metadata": {},
            "outputs": [
                {
                    "data": {
                        "text/html": "<div>\n<style scoped>\n    .dataframe tbody tr th:only-of-type {\n        vertical-align: middle;\n    }\n\n    .dataframe tbody tr th {\n        vertical-align: top;\n    }\n\n    .dataframe thead th {\n        text-align: right;\n    }\n</style>\n<table border=\"1\" class=\"dataframe\">\n  <thead>\n    <tr style=\"text-align: right;\">\n      <th></th>\n      <th>MsCode</th>\n      <th>HECCode</th>\n      <th>Estimate</th>\n      <th>RSE</th>\n      <th>Flag</th>\n    </tr>\n  </thead>\n  <tbody>\n    <tr>\n      <th>0</th>\n      <td>M003</td>\n      <td>Total Gross</td>\n      <td>2.441552e+09</td>\n      <td>NaN</td>\n      <td>R</td>\n    </tr>\n    <tr>\n      <th>1</th>\n      <td>M003</td>\n      <td>Total Net</td>\n      <td>2.370611e+09</td>\n      <td>NaN</td>\n      <td>R</td>\n    </tr>\n    <tr>\n      <th>2</th>\n      <td>M003</td>\n      <td>01</td>\n      <td>4.105492e+08</td>\n      <td>NaN</td>\n      <td>R</td>\n    </tr>\n    <tr>\n      <th>3</th>\n      <td>M003</td>\n      <td>01.1</td>\n      <td>4.136560e+07</td>\n      <td>NaN</td>\n      <td>R</td>\n    </tr>\n    <tr>\n      <th>4</th>\n      <td>M003</td>\n      <td>01.1.01</td>\n      <td>1.686880e+07</td>\n      <td>NaN</td>\n      <td>R</td>\n    </tr>\n  </tbody>\n</table>\n</div>",
                        "text/plain": "  MsCode      HECCode      Estimate  RSE Flag\n0   M003  Total Gross  2.441552e+09  NaN    R\n1   M003    Total Net  2.370611e+09  NaN    R\n2   M003           01  4.105492e+08  NaN    R\n3   M003         01.1  4.136560e+07  NaN    R\n4   M003      01.1.01  1.686880e+07  NaN    R"
                    },
                    "execution_count": 2,
                    "metadata": {},
                    "output_type": "execute_result"
                }
            ],
            "source": "# The code was removed by Watson Studio for sharing."
        }
    ],
    "metadata": {
        "kernelspec": {
            "display_name": "Python 3.6",
            "language": "python",
            "name": "python3"
        },
        "language_info": {
            "codemirror_mode": {
                "name": "ipython",
                "version": 3
            },
            "file_extension": ".py",
            "mimetype": "text/x-python",
            "name": "python",
            "nbconvert_exporter": "python",
            "pygments_lexer": "ipython3",
            "version": "3.6.9"
        }
    },
    "nbformat": 4,
    "nbformat_minor": 1
}